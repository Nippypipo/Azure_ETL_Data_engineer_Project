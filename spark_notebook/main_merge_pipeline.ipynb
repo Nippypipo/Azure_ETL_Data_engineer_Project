{
 "cells": [
  {
   "cell_type": "code",
   "execution_count": 0,
   "metadata": {
    "application/vnd.databricks.v1+cell": {
     "cellMetadata": {},
     "inputWidgets": {},
     "nuid": "4ea62cd7-9d26-4ec1-893b-45d3ebd82fd6",
     "showTitle": false,
     "title": ""
    }
   },
   "outputs": [],
   "source": [
    "#Input Parameter\n",
    "PayLoad =  dbutils.widgets.get(\"PayLoad\")\n",
    "RunId = dbutils.widgets.get(\"RunId\").lower()\n",
    "ADLS_ContainerName =  dbutils.widgets.get(\"ADLS_ContainerName\")\n",
    "ADLS_StorageAccount = dbutils.widgets.get(\"ADLS_StorageAccount\")"
   ]
  },
  {
   "cell_type": "code",
   "execution_count": 0,
   "metadata": {
    "application/vnd.databricks.v1+cell": {
     "cellMetadata": {},
     "inputWidgets": {},
     "nuid": "57b71e9f-6f06-48dd-8660-068999ce6a37",
     "showTitle": false,
     "title": ""
    }
   },
   "outputs": [],
   "source": [
    "%run /Workspace/Users/nipun.a@bluebik.com/de-learning/src/databricks/merge_function"
   ]
  },
  {
   "cell_type": "code",
   "execution_count": 0,
   "metadata": {
    "application/vnd.databricks.v1+cell": {
     "cellMetadata": {},
     "inputWidgets": {},
     "nuid": "d773ce38-ef48-48ba-859d-2a8e80d83401",
     "showTitle": false,
     "title": ""
    }
   },
   "outputs": [],
   "source": [
    "# Create an instance of ETLPipeline\n",
    "etl_pipeline = MergePipeline(payload=PayLoad, run_id=RunId, adls_container_name=ADLS_ContainerName, adls_storage_account=ADLS_StorageAccount)\n",
    "\n",
    "# Execute the pipeline\n",
    "etl_pipeline.run_pipeline()"
   ]
  }
 ],
 "metadata": {
  "application/vnd.databricks.v1+notebook": {
   "dashboards": [],
   "environmentMetadata": null,
   "language": "python",
   "notebookMetadata": {
    "pythonIndentUnit": 4
   },
   "notebookName": "main_merge_pipeline",
   "widgets": {}
  }
 },
 "nbformat": 4,
 "nbformat_minor": 0
}
